{
 "cells": [
  {
   "cell_type": "markdown",
   "id": "1514bc1d",
   "metadata": {},
   "source": [
    "# THE SPARKS FOUNDATION\n",
    "## Data Science And Business Analytics Internship\n",
    "## Task 1 - Prediction Using Supervised ML\n",
    "## Author - Asmita Kulkarni\n",
    "\n"
   ]
  },
  {
   "cell_type": "code",
   "execution_count": null,
   "id": "58d5a488",
   "metadata": {},
   "outputs": [],
   "source": [
    "# importing required libraries \n",
    "import pandas as pd \n",
    "import matplotlib.pyplot as plt\n",
    "from sklearn import linear_model"
   ]
  },
  {
   "cell_type": "code",
   "execution_count": null,
   "id": "f80a1ff2",
   "metadata": {},
   "outputs": [],
   "source": [
    "data = pd.read_csv(\"http://bit.ly/w-data\")\n",
    "data "
   ]
  },
  {
   "cell_type": "code",
   "execution_count": null,
   "id": "2c0b6288",
   "metadata": {},
   "outputs": [],
   "source": [
    "plt.title(\"No of Hours Studied Vs Marks Obtained\")\n",
    "plt.xlabel(\"No of Hours Studied\")\n",
    "plt.ylabel(\"Marks Scored\")\n",
    "plt.scatter(data.Hours,data.Scores,color='red',label=\"Distribution of Data\")\n",
    "plt.legend(['Distribution of Data'])"
   ]
  },
  {
   "cell_type": "code",
   "execution_count": null,
   "id": "7040f099",
   "metadata": {},
   "outputs": [],
   "source": [
    "l = linear_model.LinearRegression()\n",
    "l.fit(data[['Hours']],data.Scores)"
   ]
  },
  {
   "cell_type": "code",
   "execution_count": null,
   "id": "8805226b",
   "metadata": {},
   "outputs": [],
   "source": [
    "s = l.coef_\n",
    "s"
   ]
  },
  {
   "cell_type": "code",
   "execution_count": null,
   "id": "295fbf7d",
   "metadata": {},
   "outputs": [],
   "source": [
    "a = l.intercept_\n",
    "a"
   ]
  },
  {
   "cell_type": "markdown",
   "id": "1f81f7d9",
   "metadata": {},
   "source": [
    "## Equation of Linear Regression, y = mx + c"
   ]
  },
  {
   "cell_type": "code",
   "execution_count": null,
   "id": "bddd4e96",
   "metadata": {},
   "outputs": [],
   "source": [
    "predicted_score = data[['Hours']]*s + a"
   ]
  },
  {
   "cell_type": "code",
   "execution_count": null,
   "id": "f188aa6a",
   "metadata": {},
   "outputs": [],
   "source": [
    "plt.title(\"No of Hours Studied Vs Marks Obtained\")\n",
    "plt.xlabel(\"No of Hours Studied\")\n",
    "plt.ylabel(\"Marks Scored\")\n",
    "plt.scatter(data.Hours,data.Scores,color='red',label=\"Distribution of Data\")\n",
    "plt.plot(data.Hours, predicted_score,color='blue',label=\"Linear Regression Line\")\n",
    "plt.legend(['Linear Regression Line' , 'Distribution of Data'])"
   ]
  },
  {
   "cell_type": "code",
   "execution_count": null,
   "id": "4c40ed3f",
   "metadata": {},
   "outputs": [],
   "source": [
    "def l_prediction(hour):\n",
    "    score = s*hour + a \n",
    "    return score\n"
   ]
  },
  {
   "cell_type": "markdown",
   "id": "3ac468dc",
   "metadata": {},
   "source": [
    "## Problem Statement - What will be the predicted score if a student studies for 9.25 hrs/day?"
   ]
  },
  {
   "cell_type": "code",
   "execution_count": null,
   "id": "bfe57033",
   "metadata": {},
   "outputs": [],
   "source": [
    "prediction = l_prediction(9.25)\n",
    "print(\"If the student studies for 9.25 hours/day , then the predicted score is: %.4f\"%prediction)"
   ]
  },
  {
   "cell_type": "code",
   "execution_count": null,
   "id": "b0efdc4e",
   "metadata": {},
   "outputs": [],
   "source": [
    "from sklearn.metrics import mean_absolute_error \n",
    "print(\"Mean Absolute Error: \" , mean_absolute_error(data.Scores, predicted_score))"
   ]
  },
  {
   "cell_type": "code",
   "execution_count": null,
   "id": "8eda79b5",
   "metadata": {},
   "outputs": [],
   "source": []
  },
  {
   "cell_type": "code",
   "execution_count": null,
   "id": "d37e37e1",
   "metadata": {},
   "outputs": [],
   "source": []
  }
 ],
 "metadata": {
  "kernelspec": {
   "display_name": "Python 3",
   "language": "python",
   "name": "python3"
  },
  "language_info": {
   "codemirror_mode": {
    "name": "ipython",
    "version": 3
   },
   "file_extension": ".py",
   "mimetype": "text/x-python",
   "name": "python",
   "nbconvert_exporter": "python",
   "pygments_lexer": "ipython3",
   "version": "3.7.5"
  }
 },
 "nbformat": 4,
 "nbformat_minor": 5
}
